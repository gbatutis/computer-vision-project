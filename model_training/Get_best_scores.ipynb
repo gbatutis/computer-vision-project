{
 "cells": [
  {
   "cell_type": "code",
   "execution_count": 3,
   "metadata": {},
   "outputs": [],
   "source": [
    "import pandas as pd\n",
    "import os"
   ]
  },
  {
   "cell_type": "code",
   "execution_count": 5,
   "metadata": {},
   "outputs": [],
   "source": [
    "def find_best_scores(df, f1=True, val=False): \n",
    "    if f1: \n",
    "        max_ = max(df['f1_score'])\n",
    "        best_row = df.loc[df['f1_score'] == max_].values\n",
    "    else: \n",
    "        min_ = min(df['val_loss'])\n",
    "        best_row = df.loc[df['val_loss'] == min_].values\n",
    "    \n",
    "    best_epoch, best_train, best_val, bestf1 = best_row[0]\n",
    "    \n",
    "    return best_epoch, best_train, best_val, bestf1"
   ]
  },
  {
   "cell_type": "code",
   "execution_count": 4,
   "metadata": {},
   "outputs": [
    {
     "data": {
      "text/html": [
       "<div>\n",
       "<style scoped>\n",
       "    .dataframe tbody tr th:only-of-type {\n",
       "        vertical-align: middle;\n",
       "    }\n",
       "\n",
       "    .dataframe tbody tr th {\n",
       "        vertical-align: top;\n",
       "    }\n",
       "\n",
       "    .dataframe thead th {\n",
       "        text-align: right;\n",
       "    }\n",
       "</style>\n",
       "<table border=\"1\" class=\"dataframe\">\n",
       "  <thead>\n",
       "    <tr style=\"text-align: right;\">\n",
       "      <th></th>\n",
       "      <th>Unnamed: 0</th>\n",
       "      <th>train_loss</th>\n",
       "      <th>val_loss</th>\n",
       "      <th>f1_score</th>\n",
       "    </tr>\n",
       "  </thead>\n",
       "  <tbody>\n",
       "    <tr>\n",
       "      <th>0</th>\n",
       "      <td>0</td>\n",
       "      <td>0.967491</td>\n",
       "      <td>1.259812</td>\n",
       "      <td>0.592691</td>\n",
       "    </tr>\n",
       "    <tr>\n",
       "      <th>1</th>\n",
       "      <td>1</td>\n",
       "      <td>0.903062</td>\n",
       "      <td>0.945778</td>\n",
       "      <td>0.566333</td>\n",
       "    </tr>\n",
       "    <tr>\n",
       "      <th>2</th>\n",
       "      <td>2</td>\n",
       "      <td>0.667415</td>\n",
       "      <td>1.398462</td>\n",
       "      <td>0.590919</td>\n",
       "    </tr>\n",
       "    <tr>\n",
       "      <th>3</th>\n",
       "      <td>3</td>\n",
       "      <td>0.699748</td>\n",
       "      <td>0.818882</td>\n",
       "      <td>0.658162</td>\n",
       "    </tr>\n",
       "    <tr>\n",
       "      <th>4</th>\n",
       "      <td>4</td>\n",
       "      <td>0.654123</td>\n",
       "      <td>1.033113</td>\n",
       "      <td>0.582650</td>\n",
       "    </tr>\n",
       "    <tr>\n",
       "      <th>5</th>\n",
       "      <td>5</td>\n",
       "      <td>0.523154</td>\n",
       "      <td>0.917686</td>\n",
       "      <td>0.527634</td>\n",
       "    </tr>\n",
       "    <tr>\n",
       "      <th>6</th>\n",
       "      <td>6</td>\n",
       "      <td>0.551866</td>\n",
       "      <td>0.822072</td>\n",
       "      <td>0.571760</td>\n",
       "    </tr>\n",
       "    <tr>\n",
       "      <th>7</th>\n",
       "      <td>7</td>\n",
       "      <td>0.665624</td>\n",
       "      <td>1.479384</td>\n",
       "      <td>0.454731</td>\n",
       "    </tr>\n",
       "    <tr>\n",
       "      <th>8</th>\n",
       "      <td>8</td>\n",
       "      <td>0.531451</td>\n",
       "      <td>0.985414</td>\n",
       "      <td>0.590379</td>\n",
       "    </tr>\n",
       "    <tr>\n",
       "      <th>9</th>\n",
       "      <td>9</td>\n",
       "      <td>0.640307</td>\n",
       "      <td>0.874912</td>\n",
       "      <td>0.619058</td>\n",
       "    </tr>\n",
       "    <tr>\n",
       "      <th>10</th>\n",
       "      <td>10</td>\n",
       "      <td>0.560334</td>\n",
       "      <td>1.059160</td>\n",
       "      <td>0.590459</td>\n",
       "    </tr>\n",
       "    <tr>\n",
       "      <th>11</th>\n",
       "      <td>11</td>\n",
       "      <td>0.341374</td>\n",
       "      <td>1.973667</td>\n",
       "      <td>0.253544</td>\n",
       "    </tr>\n",
       "    <tr>\n",
       "      <th>12</th>\n",
       "      <td>12</td>\n",
       "      <td>0.503258</td>\n",
       "      <td>1.925616</td>\n",
       "      <td>0.566712</td>\n",
       "    </tr>\n",
       "    <tr>\n",
       "      <th>13</th>\n",
       "      <td>13</td>\n",
       "      <td>0.373845</td>\n",
       "      <td>1.158711</td>\n",
       "      <td>0.610784</td>\n",
       "    </tr>\n",
       "    <tr>\n",
       "      <th>14</th>\n",
       "      <td>14</td>\n",
       "      <td>0.281171</td>\n",
       "      <td>1.474294</td>\n",
       "      <td>0.478380</td>\n",
       "    </tr>\n",
       "    <tr>\n",
       "      <th>15</th>\n",
       "      <td>15</td>\n",
       "      <td>0.140085</td>\n",
       "      <td>1.270465</td>\n",
       "      <td>0.589349</td>\n",
       "    </tr>\n",
       "    <tr>\n",
       "      <th>16</th>\n",
       "      <td>16</td>\n",
       "      <td>0.225708</td>\n",
       "      <td>1.337898</td>\n",
       "      <td>0.604824</td>\n",
       "    </tr>\n",
       "    <tr>\n",
       "      <th>17</th>\n",
       "      <td>17</td>\n",
       "      <td>0.066795</td>\n",
       "      <td>1.407356</td>\n",
       "      <td>0.591721</td>\n",
       "    </tr>\n",
       "    <tr>\n",
       "      <th>18</th>\n",
       "      <td>18</td>\n",
       "      <td>0.094400</td>\n",
       "      <td>1.461542</td>\n",
       "      <td>0.583011</td>\n",
       "    </tr>\n",
       "    <tr>\n",
       "      <th>19</th>\n",
       "      <td>19</td>\n",
       "      <td>0.036282</td>\n",
       "      <td>1.517405</td>\n",
       "      <td>0.612749</td>\n",
       "    </tr>\n",
       "  </tbody>\n",
       "</table>\n",
       "</div>"
      ],
      "text/plain": [
       "    Unnamed: 0  train_loss  val_loss  f1_score\n",
       "0            0    0.967491  1.259812  0.592691\n",
       "1            1    0.903062  0.945778  0.566333\n",
       "2            2    0.667415  1.398462  0.590919\n",
       "3            3    0.699748  0.818882  0.658162\n",
       "4            4    0.654123  1.033113  0.582650\n",
       "5            5    0.523154  0.917686  0.527634\n",
       "6            6    0.551866  0.822072  0.571760\n",
       "7            7    0.665624  1.479384  0.454731\n",
       "8            8    0.531451  0.985414  0.590379\n",
       "9            9    0.640307  0.874912  0.619058\n",
       "10          10    0.560334  1.059160  0.590459\n",
       "11          11    0.341374  1.973667  0.253544\n",
       "12          12    0.503258  1.925616  0.566712\n",
       "13          13    0.373845  1.158711  0.610784\n",
       "14          14    0.281171  1.474294  0.478380\n",
       "15          15    0.140085  1.270465  0.589349\n",
       "16          16    0.225708  1.337898  0.604824\n",
       "17          17    0.066795  1.407356  0.591721\n",
       "18          18    0.094400  1.461542  0.583011\n",
       "19          19    0.036282  1.517405  0.612749"
      ]
     },
     "execution_count": 4,
     "metadata": {},
     "output_type": "execute_result"
    }
   ],
   "source": [
    "model_1 = pd.read_csv('model:resnet18_lr:0.005_mom:0.5_step:15_gamma:0.3/model:resnet18_epoch:20_lr:0.005_mom:0.5_step:15_gamma:0.3.csv')\n",
    "model_1"
   ]
  },
  {
   "cell_type": "code",
   "execution_count": 35,
   "metadata": {},
   "outputs": [
    {
     "data": {
      "text/plain": [
       "(3.0, 0.6997477412223816, 0.8188818097114563, 0.6581617593765259)"
      ]
     },
     "execution_count": 35,
     "metadata": {},
     "output_type": "execute_result"
    }
   ],
   "source": [
    "best_epoch_f1, best_train_f1, best_val_f1, bestf1 = find_best_scores(model_1, f1=True, val=False)\n",
    "best_epoch_f1, best_train_f1, best_val_f1, bestf1"
   ]
  },
  {
   "cell_type": "code",
   "execution_count": 36,
   "metadata": {},
   "outputs": [
    {
     "data": {
      "text/plain": [
       "(3.0, 0.6997477412223816, 0.8188818097114563, 0.6581617593765259)"
      ]
     },
     "execution_count": 36,
     "metadata": {},
     "output_type": "execute_result"
    }
   ],
   "source": [
    "best_epoch, best_train, best_val, bestf1 = find_best_scores(model_1, f1=False, val=True)\n",
    "best_epoch, best_train, best_val, bestf1"
   ]
  },
  {
   "cell_type": "code",
   "execution_count": 37,
   "metadata": {},
   "outputs": [
    {
     "data": {
      "text/html": [
       "<div>\n",
       "<style scoped>\n",
       "    .dataframe tbody tr th:only-of-type {\n",
       "        vertical-align: middle;\n",
       "    }\n",
       "\n",
       "    .dataframe tbody tr th {\n",
       "        vertical-align: top;\n",
       "    }\n",
       "\n",
       "    .dataframe thead th {\n",
       "        text-align: right;\n",
       "    }\n",
       "</style>\n",
       "<table border=\"1\" class=\"dataframe\">\n",
       "  <thead>\n",
       "    <tr style=\"text-align: right;\">\n",
       "      <th></th>\n",
       "      <th>Unnamed: 0</th>\n",
       "      <th>train_loss</th>\n",
       "      <th>val_loss</th>\n",
       "      <th>f1_score</th>\n",
       "    </tr>\n",
       "  </thead>\n",
       "  <tbody>\n",
       "    <tr>\n",
       "      <th>0</th>\n",
       "      <td>0</td>\n",
       "      <td>0.785630</td>\n",
       "      <td>0.869966</td>\n",
       "      <td>0.532511</td>\n",
       "    </tr>\n",
       "    <tr>\n",
       "      <th>1</th>\n",
       "      <td>1</td>\n",
       "      <td>0.862164</td>\n",
       "      <td>0.808503</td>\n",
       "      <td>0.617052</td>\n",
       "    </tr>\n",
       "    <tr>\n",
       "      <th>2</th>\n",
       "      <td>2</td>\n",
       "      <td>0.751335</td>\n",
       "      <td>0.921648</td>\n",
       "      <td>0.590473</td>\n",
       "    </tr>\n",
       "    <tr>\n",
       "      <th>3</th>\n",
       "      <td>3</td>\n",
       "      <td>0.769332</td>\n",
       "      <td>0.846194</td>\n",
       "      <td>0.598688</td>\n",
       "    </tr>\n",
       "    <tr>\n",
       "      <th>4</th>\n",
       "      <td>4</td>\n",
       "      <td>0.790510</td>\n",
       "      <td>1.081768</td>\n",
       "      <td>0.631639</td>\n",
       "    </tr>\n",
       "    <tr>\n",
       "      <th>5</th>\n",
       "      <td>5</td>\n",
       "      <td>0.799953</td>\n",
       "      <td>0.815417</td>\n",
       "      <td>0.587451</td>\n",
       "    </tr>\n",
       "    <tr>\n",
       "      <th>6</th>\n",
       "      <td>6</td>\n",
       "      <td>0.995143</td>\n",
       "      <td>1.627888</td>\n",
       "      <td>0.449692</td>\n",
       "    </tr>\n",
       "    <tr>\n",
       "      <th>7</th>\n",
       "      <td>7</td>\n",
       "      <td>0.687497</td>\n",
       "      <td>1.506153</td>\n",
       "      <td>0.392518</td>\n",
       "    </tr>\n",
       "    <tr>\n",
       "      <th>8</th>\n",
       "      <td>8</td>\n",
       "      <td>0.601996</td>\n",
       "      <td>1.656003</td>\n",
       "      <td>0.595075</td>\n",
       "    </tr>\n",
       "    <tr>\n",
       "      <th>9</th>\n",
       "      <td>9</td>\n",
       "      <td>0.621826</td>\n",
       "      <td>0.889704</td>\n",
       "      <td>0.558953</td>\n",
       "    </tr>\n",
       "    <tr>\n",
       "      <th>10</th>\n",
       "      <td>10</td>\n",
       "      <td>0.649467</td>\n",
       "      <td>1.117336</td>\n",
       "      <td>0.564651</td>\n",
       "    </tr>\n",
       "    <tr>\n",
       "      <th>11</th>\n",
       "      <td>11</td>\n",
       "      <td>0.541867</td>\n",
       "      <td>0.846161</td>\n",
       "      <td>0.620269</td>\n",
       "    </tr>\n",
       "    <tr>\n",
       "      <th>12</th>\n",
       "      <td>12</td>\n",
       "      <td>0.664892</td>\n",
       "      <td>0.927113</td>\n",
       "      <td>0.582387</td>\n",
       "    </tr>\n",
       "    <tr>\n",
       "      <th>13</th>\n",
       "      <td>13</td>\n",
       "      <td>0.551832</td>\n",
       "      <td>3.112406</td>\n",
       "      <td>0.083075</td>\n",
       "    </tr>\n",
       "    <tr>\n",
       "      <th>14</th>\n",
       "      <td>14</td>\n",
       "      <td>0.371366</td>\n",
       "      <td>0.850390</td>\n",
       "      <td>0.607890</td>\n",
       "    </tr>\n",
       "    <tr>\n",
       "      <th>15</th>\n",
       "      <td>15</td>\n",
       "      <td>0.318896</td>\n",
       "      <td>1.291959</td>\n",
       "      <td>0.630058</td>\n",
       "    </tr>\n",
       "    <tr>\n",
       "      <th>16</th>\n",
       "      <td>16</td>\n",
       "      <td>0.178364</td>\n",
       "      <td>1.342424</td>\n",
       "      <td>0.617646</td>\n",
       "    </tr>\n",
       "    <tr>\n",
       "      <th>17</th>\n",
       "      <td>17</td>\n",
       "      <td>0.124726</td>\n",
       "      <td>1.620959</td>\n",
       "      <td>0.583171</td>\n",
       "    </tr>\n",
       "    <tr>\n",
       "      <th>18</th>\n",
       "      <td>18</td>\n",
       "      <td>0.239069</td>\n",
       "      <td>1.836715</td>\n",
       "      <td>0.590242</td>\n",
       "    </tr>\n",
       "    <tr>\n",
       "      <th>19</th>\n",
       "      <td>19</td>\n",
       "      <td>0.109647</td>\n",
       "      <td>2.139127</td>\n",
       "      <td>0.615209</td>\n",
       "    </tr>\n",
       "  </tbody>\n",
       "</table>\n",
       "</div>"
      ],
      "text/plain": [
       "    Unnamed: 0  train_loss  val_loss  f1_score\n",
       "0            0    0.785630  0.869966  0.532511\n",
       "1            1    0.862164  0.808503  0.617052\n",
       "2            2    0.751335  0.921648  0.590473\n",
       "3            3    0.769332  0.846194  0.598688\n",
       "4            4    0.790510  1.081768  0.631639\n",
       "5            5    0.799953  0.815417  0.587451\n",
       "6            6    0.995143  1.627888  0.449692\n",
       "7            7    0.687497  1.506153  0.392518\n",
       "8            8    0.601996  1.656003  0.595075\n",
       "9            9    0.621826  0.889704  0.558953\n",
       "10          10    0.649467  1.117336  0.564651\n",
       "11          11    0.541867  0.846161  0.620269\n",
       "12          12    0.664892  0.927113  0.582387\n",
       "13          13    0.551832  3.112406  0.083075\n",
       "14          14    0.371366  0.850390  0.607890\n",
       "15          15    0.318896  1.291959  0.630058\n",
       "16          16    0.178364  1.342424  0.617646\n",
       "17          17    0.124726  1.620959  0.583171\n",
       "18          18    0.239069  1.836715  0.590242\n",
       "19          19    0.109647  2.139127  0.615209"
      ]
     },
     "execution_count": 37,
     "metadata": {},
     "output_type": "execute_result"
    }
   ],
   "source": [
    "model_2 = pd.read_csv('model:resnet18_lr:0.03_mom:0.5_step:15_gamma:0.3/model:resnet18_epoch:20_lr:0.03_mom:0.5_step:15_gamma:0.3.csv')\n",
    "model_2"
   ]
  },
  {
   "cell_type": "code",
   "execution_count": 38,
   "metadata": {},
   "outputs": [
    {
     "data": {
      "text/plain": [
       "(4.0, 0.7905095815658569, 1.0817675590515137, 0.6316394209861755)"
      ]
     },
     "execution_count": 38,
     "metadata": {},
     "output_type": "execute_result"
    }
   ],
   "source": [
    "find_best_scores(model_2, f1=True, val=False)"
   ]
  },
  {
   "cell_type": "code",
   "execution_count": 39,
   "metadata": {},
   "outputs": [
    {
     "data": {
      "text/plain": [
       "(1.0, 0.8621641993522644, 0.8085025548934937, 0.6170520782470703)"
      ]
     },
     "execution_count": 39,
     "metadata": {},
     "output_type": "execute_result"
    }
   ],
   "source": [
    "find_best_scores(model_2, f1=False, val=True)"
   ]
  },
  {
   "cell_type": "code",
   "execution_count": 40,
   "metadata": {},
   "outputs": [
    {
     "name": "stdout",
     "output_type": "stream",
     "text": [
      "(9.0, 0.5343993902206421, 0.7786759734153748, 0.6434339880943298)\n",
      "(9.0, 0.5343993902206421, 0.7786759734153748, 0.6434339880943298)\n"
     ]
    }
   ],
   "source": [
    "model_3 = pd.read_csv('model:resnet18_lr:0.01_mom:0.8_step:15_gamma:0.3/model:resnet18_epoch:20_lr:0.01_mom:0.8_step:15_gamma:0.3.csv')\n",
    "model_3\n",
    "\n",
    "print(find_best_scores(model_3, f1=True, val=False))\n",
    "print(find_best_scores(model_3, f1=False, val=True))"
   ]
  },
  {
   "cell_type": "code",
   "execution_count": 1,
   "metadata": {},
   "outputs": [
    {
     "name": "stdout",
     "output_type": "stream",
     "text": [
      "model:se_resnet20_epoch:20_lr:0.005_mom:0.9_step:15_gamma:0.3.csv\n",
      "model:se_resnet20_epoch:20_lr:0.01_mom:0.5_step:15_gamma:0.3.csv\n",
      "model:se_resnet20_epoch:20_lr:0.03_mom:0.9_step:15_gamma:0.3.csv\n"
     ]
    }
   ],
   "source": [
    "%ls *.csv"
   ]
  },
  {
   "cell_type": "code",
   "execution_count": 6,
   "metadata": {},
   "outputs": [
    {
     "name": "stdout",
     "output_type": "stream",
     "text": [
      "(19.0, 0.4735094606876373, 0.7092830538749695, 0.7009843587875366)\n",
      "(18.0, 0.4701791107654572, 0.6574912071228027, 0.6847848892211914)\n"
     ]
    }
   ],
   "source": [
    "model_4 = pd.read_csv('model:se_resnet20_epoch:20_lr:0.005_mom:0.9_step:15_gamma:0.3.csv')\n",
    "model_4\n",
    "\n",
    "print(find_best_scores(model_4, f1=True, val=False))\n",
    "print(find_best_scores(model_4, f1=False, val=True))"
   ]
  },
  {
   "cell_type": "code",
   "execution_count": 9,
   "metadata": {},
   "outputs": [
    {
     "name": "stdout",
     "output_type": "stream",
     "text": [
      "(0.0, 0.681180477142334, 0.7861313819885254, 0.7010214924812317)\n",
      "(18.0, 0.5718469023704529, 0.7172897458076477, 0.6378056406974792)\n"
     ]
    }
   ],
   "source": [
    "model_5 = pd.read_csv('model:se_resnet20_epoch:20_lr:0.01_mom:0.5_step:15_gamma:0.3.csv')\n",
    "model_5\n",
    "\n",
    "print(find_best_scores(model_5, f1=True, val=False))\n",
    "print(find_best_scores(model_5, f1=False, val=True))"
   ]
  },
  {
   "cell_type": "code",
   "execution_count": 13,
   "metadata": {},
   "outputs": [
    {
     "name": "stdout",
     "output_type": "stream",
     "text": [
      "best f1 row: (18.0, 0.30519989132881165, 0.5519700050354004, 0.7639470100402832)\n",
      "best val row: (18.0, 0.30519989132881165, 0.5519700050354004, 0.7639470100402832)\n"
     ]
    }
   ],
   "source": [
    "model_6 = pd.read_csv('model:se_resnet20_epoch:20_lr:0.03_mom:0.9_step:15_gamma:0.3.csv')\n",
    "model_6\n",
    "\n",
    "print('best f1 row:', find_best_scores(model_6, f1=True, val=False))\n",
    "print('best val row:',find_best_scores(model_6, f1=False, val=True))"
   ]
  },
  {
   "cell_type": "code",
   "execution_count": null,
   "metadata": {},
   "outputs": [],
   "source": []
  }
 ],
 "metadata": {
  "kernelspec": {
   "display_name": "Python 3",
   "language": "python",
   "name": "python3"
  },
  "language_info": {
   "codemirror_mode": {
    "name": "ipython",
    "version": 3
   },
   "file_extension": ".py",
   "mimetype": "text/x-python",
   "name": "python",
   "nbconvert_exporter": "python",
   "pygments_lexer": "ipython3",
   "version": "3.8.6"
  }
 },
 "nbformat": 4,
 "nbformat_minor": 4
}
